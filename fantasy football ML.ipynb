{
 "cells": [
  {
   "cell_type": "markdown",
   "metadata": {},
   "source": [
    "## Predicting the Fantasy Points scored based on Usage"
   ]
  },
  {
   "cell_type": "code",
   "execution_count": 148,
   "metadata": {},
   "outputs": [],
   "source": [
    "import pandas as pd\n",
    "from sklearn.model_selection import train_test_split \n",
    "from sklearn.linear_model import LinearRegression\n",
    "from matplotlib import pyplot as plt"
   ]
  },
  {
   "cell_type": "code",
   "execution_count": 149,
   "metadata": {},
   "outputs": [],
   "source": [
    "df = pd.read_excel('2019_ff.xlsx')"
   ]
  },
  {
   "cell_type": "code",
   "execution_count": 150,
   "metadata": {},
   "outputs": [],
   "source": [
    "#cleaning the dataframe\n",
    "\n",
    "df = df.rename(columns=df.iloc[0]).drop(df.index[0])"
   ]
  },
  {
   "cell_type": "code",
   "execution_count": 151,
   "metadata": {},
   "outputs": [],
   "source": [
    "df = df.iloc[: , 1:]"
   ]
  },
  {
   "cell_type": "code",
   "execution_count": 152,
   "metadata": {
    "scrolled": true
   },
   "outputs": [
    {
     "data": {
      "text/html": [
       "<div>\n",
       "<style scoped>\n",
       "    .dataframe tbody tr th:only-of-type {\n",
       "        vertical-align: middle;\n",
       "    }\n",
       "\n",
       "    .dataframe tbody tr th {\n",
       "        vertical-align: top;\n",
       "    }\n",
       "\n",
       "    .dataframe thead th {\n",
       "        text-align: right;\n",
       "    }\n",
       "</style>\n",
       "<table border=\"1\" class=\"dataframe\">\n",
       "  <thead>\n",
       "    <tr style=\"text-align: right;\">\n",
       "      <th></th>\n",
       "      <th>Player</th>\n",
       "      <th>Tm</th>\n",
       "      <th>Pos</th>\n",
       "      <th>Age</th>\n",
       "      <th>G</th>\n",
       "      <th>GS</th>\n",
       "      <th>Cmp</th>\n",
       "      <th>Att</th>\n",
       "      <th>Yds</th>\n",
       "      <th>Int</th>\n",
       "      <th>...</th>\n",
       "      <th>FumblesLost</th>\n",
       "      <th>PassingYds</th>\n",
       "      <th>PassingTD</th>\n",
       "      <th>PassingAtt</th>\n",
       "      <th>RushingYds</th>\n",
       "      <th>RushingTD</th>\n",
       "      <th>RushingAtt</th>\n",
       "      <th>ReceivingYds</th>\n",
       "      <th>ReceivingTD</th>\n",
       "      <th>FantasyPoints</th>\n",
       "    </tr>\n",
       "  </thead>\n",
       "  <tbody>\n",
       "    <tr>\n",
       "      <th>1</th>\n",
       "      <td>Christian McCaffrey</td>\n",
       "      <td>CAR</td>\n",
       "      <td>RB</td>\n",
       "      <td>23</td>\n",
       "      <td>16</td>\n",
       "      <td>16</td>\n",
       "      <td>0</td>\n",
       "      <td>2</td>\n",
       "      <td>0</td>\n",
       "      <td>0</td>\n",
       "      <td>...</td>\n",
       "      <td>0</td>\n",
       "      <td>0</td>\n",
       "      <td>0</td>\n",
       "      <td>2</td>\n",
       "      <td>1387</td>\n",
       "      <td>15</td>\n",
       "      <td>287</td>\n",
       "      <td>1005</td>\n",
       "      <td>4</td>\n",
       "      <td>469.2</td>\n",
       "    </tr>\n",
       "    <tr>\n",
       "      <th>2</th>\n",
       "      <td>Lamar Jackson</td>\n",
       "      <td>BAL</td>\n",
       "      <td>QB</td>\n",
       "      <td>22</td>\n",
       "      <td>15</td>\n",
       "      <td>15</td>\n",
       "      <td>265</td>\n",
       "      <td>401</td>\n",
       "      <td>3127</td>\n",
       "      <td>6</td>\n",
       "      <td>...</td>\n",
       "      <td>2</td>\n",
       "      <td>3127</td>\n",
       "      <td>36</td>\n",
       "      <td>401</td>\n",
       "      <td>1206</td>\n",
       "      <td>7</td>\n",
       "      <td>176</td>\n",
       "      <td>0</td>\n",
       "      <td>0</td>\n",
       "      <td>415.68</td>\n",
       "    </tr>\n",
       "    <tr>\n",
       "      <th>3</th>\n",
       "      <td>Derrick Henry</td>\n",
       "      <td>TEN</td>\n",
       "      <td>RB</td>\n",
       "      <td>25</td>\n",
       "      <td>15</td>\n",
       "      <td>15</td>\n",
       "      <td>0</td>\n",
       "      <td>0</td>\n",
       "      <td>0</td>\n",
       "      <td>0</td>\n",
       "      <td>...</td>\n",
       "      <td>3</td>\n",
       "      <td>0</td>\n",
       "      <td>0</td>\n",
       "      <td>0</td>\n",
       "      <td>1540</td>\n",
       "      <td>16</td>\n",
       "      <td>303</td>\n",
       "      <td>206</td>\n",
       "      <td>2</td>\n",
       "      <td>294.6</td>\n",
       "    </tr>\n",
       "    <tr>\n",
       "      <th>4</th>\n",
       "      <td>Aaron Jones</td>\n",
       "      <td>GNB</td>\n",
       "      <td>RB</td>\n",
       "      <td>25</td>\n",
       "      <td>16</td>\n",
       "      <td>16</td>\n",
       "      <td>0</td>\n",
       "      <td>0</td>\n",
       "      <td>0</td>\n",
       "      <td>0</td>\n",
       "      <td>...</td>\n",
       "      <td>2</td>\n",
       "      <td>0</td>\n",
       "      <td>0</td>\n",
       "      <td>0</td>\n",
       "      <td>1084</td>\n",
       "      <td>16</td>\n",
       "      <td>236</td>\n",
       "      <td>474</td>\n",
       "      <td>3</td>\n",
       "      <td>314.8</td>\n",
       "    </tr>\n",
       "    <tr>\n",
       "      <th>5</th>\n",
       "      <td>Ezekiel Elliott</td>\n",
       "      <td>DAL</td>\n",
       "      <td>RB</td>\n",
       "      <td>24</td>\n",
       "      <td>16</td>\n",
       "      <td>16</td>\n",
       "      <td>0</td>\n",
       "      <td>0</td>\n",
       "      <td>0</td>\n",
       "      <td>0</td>\n",
       "      <td>...</td>\n",
       "      <td>2</td>\n",
       "      <td>0</td>\n",
       "      <td>0</td>\n",
       "      <td>0</td>\n",
       "      <td>1357</td>\n",
       "      <td>12</td>\n",
       "      <td>301</td>\n",
       "      <td>420</td>\n",
       "      <td>2</td>\n",
       "      <td>311.7</td>\n",
       "    </tr>\n",
       "  </tbody>\n",
       "</table>\n",
       "<p>5 rows × 27 columns</p>\n",
       "</div>"
      ],
      "text/plain": [
       "                Player   Tm Pos Age   G  GS  Cmp  Att   Yds Int  ...  \\\n",
       "1  Christian McCaffrey  CAR  RB  23  16  16    0    2     0   0  ...   \n",
       "2        Lamar Jackson  BAL  QB  22  15  15  265  401  3127   6  ...   \n",
       "3        Derrick Henry  TEN  RB  25  15  15    0    0     0   0  ...   \n",
       "4          Aaron Jones  GNB  RB  25  16  16    0    0     0   0  ...   \n",
       "5      Ezekiel Elliott  DAL  RB  24  16  16    0    0     0   0  ...   \n",
       "\n",
       "  FumblesLost PassingYds PassingTD PassingAtt RushingYds RushingTD RushingAtt  \\\n",
       "1           0          0         0          2       1387        15        287   \n",
       "2           2       3127        36        401       1206         7        176   \n",
       "3           3          0         0          0       1540        16        303   \n",
       "4           2          0         0          0       1084        16        236   \n",
       "5           2          0         0          0       1357        12        301   \n",
       "\n",
       "  ReceivingYds ReceivingTD FantasyPoints  \n",
       "1         1005           4         469.2  \n",
       "2            0           0        415.68  \n",
       "3          206           2         294.6  \n",
       "4          474           3         314.8  \n",
       "5          420           2         311.7  \n",
       "\n",
       "[5 rows x 27 columns]"
      ]
     },
     "execution_count": 152,
     "metadata": {},
     "output_type": "execute_result"
    }
   ],
   "source": [
    "df.head()"
   ]
  },
  {
   "cell_type": "code",
   "execution_count": 153,
   "metadata": {},
   "outputs": [],
   "source": [
    "#df.drop(['Age', 'Tm', 'G', 'GS', 'Fumbles', 'FumblesLost'], axis=1, inplace=True)"
   ]
  },
  {
   "cell_type": "code",
   "execution_count": 154,
   "metadata": {},
   "outputs": [],
   "source": [
    "#Organizing the players into dataframes based on position\n",
    "\n",
    "rb_df = df[df['Pos'] == 'RB']\n",
    "qb_df = df[df['Pos'] == 'QB']\n",
    "wr_df = df[df['Pos'] == 'WR']\n",
    "te_df = df[df['Pos'] == 'TE']"
   ]
  },
  {
   "cell_type": "code",
   "execution_count": 163,
   "metadata": {},
   "outputs": [],
   "source": [
    "rushing  = ['RushingAtt', 'RushingYds', 'Y/R', 'RushingTD']\n",
    "receiving  = ['Tgt', 'Rec', 'ReceivingYds', 'Y/R', 'ReceivingTD']\n",
    "passing = ['PassingTD', 'PassingAtt', 'PassingYds']\n",
    "\n",
    "#create a function to give each position dataframe the correct columns.  We will be using running backs as they hold the most value in Fantasy Football.\n",
    "def transform_columns(df, new_column_list):\n",
    "    df = df[['Player','Tm', 'Age', 'G','FantasyPoints'] + new_column_list + ['FumblesLost']]\n",
    "    return df\n",
    "rb_df = transform_columns(rb_df, rushing +receiving)\n",
    "\n",
    "rb_df['FantasyPoints'] = (rb_df['RushingYds']*0.1 + rb_df['RushingTD']*6+ rb_df['ReceivingYds']*0.1 + rb_df ['ReceivingTD']*6 - rb_df['FumblesLost']*2)\n",
    "rb_df['Total Usage'] = (rb_df['RushingAtt'] + rb_df['Tgt'])"
   ]
  },
  {
   "cell_type": "code",
   "execution_count": 166,
   "metadata": {},
   "outputs": [],
   "source": [
    "x = rb_df['Total Usage'].values.reshape(-1, 1)\n",
    "y = rb_df['FantasyPoints'].values.reshape(-1, 1)"
   ]
  },
  {
   "cell_type": "code",
   "execution_count": 167,
   "metadata": {},
   "outputs": [],
   "source": [
    "x_train, x_test, y_train, y_test = train_test_split(x, y, test_size=0.2, random_state=0)"
   ]
  },
  {
   "cell_type": "code",
   "execution_count": 168,
   "metadata": {},
   "outputs": [],
   "source": [
    "regr = LinearRegression()\n",
    "regr.fit(x_train, y_train)\n",
    "yhat = regr.predict(x_test)"
   ]
  },
  {
   "cell_type": "code",
   "execution_count": 173,
   "metadata": {},
   "outputs": [
    {
     "data": {
      "image/png": "[encoded data removed]",
      "text/plain": [
       "<Figure size 432x288 with 1 Axes>"
      ]
     },
     "metadata": {
      "needs_background": "light"
     },
     "output_type": "display_data"
    }
   ],
   "source": [
    "plt.scatter(x_test, y_test,  color='blue')\n",
    "plt.plot(x_test, yhat, color='red', linewidth=2, alpha=0.3)\n",
    "plt.xlabel('Usage')\n",
    "plt.ylabel('Fantasy Points')\n",
    "plt.show()\n"
   ]
  },
  {
   "cell_type": "markdown",
   "metadata": {},
   "source": [
    "The line of best fit shows the predicted trend: How much the player is predicted to score based on usage. "
   ]
  }
 ],
 "metadata": {
  "kernelspec": {
   "display_name": "Python 3",
   "language": "python",
   "name": "python3"
  },
  "language_info": {
   "codemirror_mode": {
    "name": "ipython",
    "version": 3
   },
   "file_extension": ".py",
   "mimetype": "text/x-python",
   "name": "python",
   "nbconvert_exporter": "python",
   "pygments_lexer": "ipython3",
   "version": "3.8.5"
  }
 },
 "nbformat": 4,
 "nbformat_minor": 4
}
